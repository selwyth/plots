{
 "cells": [
  {
   "cell_type": "code",
   "execution_count": 6,
   "metadata": {
    "collapsed": false
   },
   "outputs": [
    {
     "name": "stdout",
     "output_type": "stream",
     "text": [
      "   date    B     A\n",
      "0     1  1.9   3.2\n",
      "1     2  2.3   1.3\n",
      "2     3  4.4   5.6\n",
      "3     4  5.6   9.4\n",
      "4     5  7.3  10.4\n"
     ]
    }
   ],
   "source": [
    "import pandas as pd\n",
    "\n",
    "n =5\n",
    "df = pd.DataFrame()\n",
    "df['date'] = range(1,6)\n",
    "df['B'] = [1.9,2.3,4.4,5.6,7.3]\n",
    "df['A'] = [3.2,1.3,5.6,9.4,10.4]\n",
    "print df"
   ]
  },
  {
   "cell_type": "code",
   "execution_count": 7,
   "metadata": {
    "collapsed": false
   },
   "outputs": [
    {
     "name": "stdout",
     "output_type": "stream",
     "text": [
      "   date    B     A\n",
      "0     1  1.9   3.2\n",
      "0     1  1.9   3.2\n",
      "1     2  2.3   1.3\n",
      "1     2  2.3   1.3\n",
      "2     3  4.4   5.6\n",
      "2     3  4.4   5.6\n",
      "3     4  5.6   9.4\n",
      "3     4  5.6   9.4\n",
      "4     5  7.3  10.4\n",
      "4     5  7.3  10.4\n"
     ]
    },
    {
     "data": {
      "text/html": [
       "<div style=\"max-height:1000px;max-width:1500px;overflow:auto;\">\n",
       "<table border=\"1\" class=\"dataframe\">\n",
       "  <thead>\n",
       "    <tr style=\"text-align: right;\">\n",
       "      <th></th>\n",
       "      <th>date</th>\n",
       "      <th>B</th>\n",
       "      <th>A</th>\n",
       "    </tr>\n",
       "  </thead>\n",
       "  <tbody>\n",
       "    <tr>\n",
       "      <th>0</th>\n",
       "      <td> 1</td>\n",
       "      <td> 1.9</td>\n",
       "      <td>  3.2</td>\n",
       "    </tr>\n",
       "    <tr>\n",
       "      <th>1</th>\n",
       "      <td> 2</td>\n",
       "      <td> 2.3</td>\n",
       "      <td>  1.3</td>\n",
       "    </tr>\n",
       "    <tr>\n",
       "      <th>1</th>\n",
       "      <td> 2</td>\n",
       "      <td> 2.3</td>\n",
       "      <td>  1.3</td>\n",
       "    </tr>\n",
       "    <tr>\n",
       "      <th>2</th>\n",
       "      <td> 3</td>\n",
       "      <td> 4.4</td>\n",
       "      <td>  5.6</td>\n",
       "    </tr>\n",
       "    <tr>\n",
       "      <th>2</th>\n",
       "      <td> 3</td>\n",
       "      <td> 4.4</td>\n",
       "      <td>  5.6</td>\n",
       "    </tr>\n",
       "    <tr>\n",
       "      <th>3</th>\n",
       "      <td> 4</td>\n",
       "      <td> 5.6</td>\n",
       "      <td>  9.4</td>\n",
       "    </tr>\n",
       "    <tr>\n",
       "      <th>3</th>\n",
       "      <td> 4</td>\n",
       "      <td> 5.6</td>\n",
       "      <td>  9.4</td>\n",
       "    </tr>\n",
       "    <tr>\n",
       "      <th>4</th>\n",
       "      <td> 5</td>\n",
       "      <td> 7.3</td>\n",
       "      <td> 10.4</td>\n",
       "    </tr>\n",
       "  </tbody>\n",
       "</table>\n",
       "</div>"
      ],
      "text/plain": [
       "   date    B     A\n",
       "0     1  1.9   3.2\n",
       "1     2  2.3   1.3\n",
       "1     2  2.3   1.3\n",
       "2     3  4.4   5.6\n",
       "2     3  4.4   5.6\n",
       "3     4  5.6   9.4\n",
       "3     4  5.6   9.4\n",
       "4     5  7.3  10.4"
      ]
     },
     "execution_count": 7,
     "metadata": {},
     "output_type": "execute_result"
    }
   ],
   "source": [
    "df_dbl = pd.concat([df,df], names = ['date', 'B', 'A']).sort()\n",
    "print df_dbl\n",
    "df_dbl = df_dbl.iloc[1:-1] # removes the first and last row\n",
    "df_dbl"
   ]
  },
  {
   "cell_type": "code",
   "execution_count": 8,
   "metadata": {
    "collapsed": false
   },
   "outputs": [],
   "source": [
    "c = df_dbl.index[1:len(df_dbl.index)].tolist()\n",
    "c.append(max(df_dbl.index))\n",
    "df_dbl.index = c"
   ]
  },
  {
   "cell_type": "code",
   "execution_count": 9,
   "metadata": {
    "collapsed": false
   },
   "outputs": [
    {
     "name": "stdout",
     "output_type": "stream",
     "text": [
      "   date    B     A\n",
      "1     1  1.9   3.2\n",
      "1     2  2.3   1.3\n",
      "2     2  2.3   1.3\n",
      "2     3  4.4   5.6\n",
      "3     3  4.4   5.6\n",
      "3     4  5.6   9.4\n",
      "4     4  5.6   9.4\n",
      "4     5  7.3  10.4\n"
     ]
    }
   ],
   "source": [
    "print df_dbl"
   ]
  },
  {
   "cell_type": "code",
   "execution_count": 3,
   "metadata": {
    "collapsed": false
   },
   "outputs": [
    {
     "data": {
      "text/plain": [
       "<class 'pandas.tseries.index.DatetimeIndex'>\n",
       "[2000-01-01, ..., 2000-01-05]\n",
       "Length: 5, Freq: D, Timezone: None"
      ]
     },
     "execution_count": 3,
     "metadata": {},
     "output_type": "execute_result"
    }
   ],
   "source": [
    "import pandas as pd\n",
    "pd.date_range('1/1/2000', periods=5)"
   ]
  },
  {
   "cell_type": "code",
   "execution_count": 77,
   "metadata": {
    "collapsed": false
   },
   "outputs": [
    {
     "data": {
      "text/html": [
       "<div style=\"max-height:1000px;max-width:1500px;overflow:auto;\">\n",
       "<table border=\"1\" class=\"dataframe\">\n",
       "  <thead>\n",
       "    <tr style=\"text-align: right;\">\n",
       "      <th></th>\n",
       "      <th>x</th>\n",
       "      <th>intercept</th>\n",
       "    </tr>\n",
       "  </thead>\n",
       "  <tbody>\n",
       "    <tr>\n",
       "      <th>1</th>\n",
       "      <td> 8.881784e-16</td>\n",
       "      <td> 2.10</td>\n",
       "    </tr>\n",
       "    <tr>\n",
       "      <th>2</th>\n",
       "      <td> 2.220446e-16</td>\n",
       "      <td> 3.35</td>\n",
       "    </tr>\n",
       "    <tr>\n",
       "      <th>3</th>\n",
       "      <td> 1.776357e-15</td>\n",
       "      <td> 5.00</td>\n",
       "    </tr>\n",
       "    <tr>\n",
       "      <th>4</th>\n",
       "      <td> 2.664535e-15</td>\n",
       "      <td> 6.45</td>\n",
       "    </tr>\n",
       "  </tbody>\n",
       "</table>\n",
       "</div>"
      ],
      "text/plain": [
       "              x  intercept\n",
       "1  8.881784e-16       2.10\n",
       "2  2.220446e-16       3.35\n",
       "3  1.776357e-15       5.00\n",
       "4  2.664535e-15       6.45"
      ]
     },
     "execution_count": 77,
     "metadata": {},
     "output_type": "execute_result"
    }
   ],
   "source": [
    "from scipy.stats import linregress\n",
    "df_dbl.groupby(df_dbl.index).apply(lambda v: pd.ols(y=v.B, x=v.date).beta) # slice at 0 to get the slope\n",
    "\n",
    "df_dbl.groupby(df_dbl.index).apply(lambda v: linregress(v.date, v.B)[0])"
   ]
  },
  {
   "cell_type": "code",
   "execution_count": 82,
   "metadata": {
    "collapsed": false
   },
   "outputs": [
    {
     "data": {
      "text/plain": [
       "x            1.225\n",
       "intercept    0.550\n",
       "dtype: float64"
      ]
     },
     "execution_count": 82,
     "metadata": {},
     "output_type": "execute_result"
    }
   ],
   "source": [
    "test = pd.ols(y=df_dbl.B, x=df_dbl.date)\n",
    "test.beta"
   ]
  },
  {
   "cell_type": "code",
   "execution_count": 83,
   "metadata": {
    "collapsed": false
   },
   "outputs": [
    {
     "data": {
      "text/plain": [
       "(1.45,\n",
       " -0.125,\n",
       " 0.98290967551068575,\n",
       " 1.2319910399729835e-05,\n",
       " 0.11086778913041724)"
      ]
     },
     "execution_count": 83,
     "metadata": {},
     "output_type": "execute_result"
    }
   ],
   "source": [
    "linregress(df_dbl.date, df_dbl.B)"
   ]
  },
  {
   "cell_type": "code",
   "execution_count": 84,
   "metadata": {
    "collapsed": false
   },
   "outputs": [
    {
     "data": {
      "text/plain": [
       "1    1\n",
       "1    2\n",
       "2    2\n",
       "2    3\n",
       "3    3\n",
       "3    4\n",
       "4    4\n",
       "4    5\n",
       "Name: date, dtype: int64"
      ]
     },
     "execution_count": 84,
     "metadata": {},
     "output_type": "execute_result"
    }
   ],
   "source": [
    "df_dbl.date"
   ]
  }
 ],
 "metadata": {
  "kernelspec": {
   "display_name": "Python 2",
   "language": "python",
   "name": "python2"
  },
  "language_info": {
   "codemirror_mode": {
    "name": "ipython",
    "version": 2
   },
   "file_extension": ".py",
   "mimetype": "text/x-python",
   "name": "python",
   "nbconvert_exporter": "python",
   "pygments_lexer": "ipython2",
   "version": "2.7.7"
  }
 },
 "nbformat": 4,
 "nbformat_minor": 0
}
